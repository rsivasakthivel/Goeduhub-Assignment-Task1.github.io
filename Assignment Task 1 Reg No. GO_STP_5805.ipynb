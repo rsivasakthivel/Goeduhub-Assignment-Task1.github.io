{
 "cells": [
  {
   "cell_type": "markdown",
   "metadata": {
    "id": "VATX6qRd4J0N"
   },
   "source": [
    "# 👉 **Assignment/Task 1**"
   ]
  },
  {
   "cell_type": "markdown",
   "metadata": {
    "id": "cTS-7zxd5127"
   },
   "source": [
    "## Reg No.   **GO_STP_5805** Sivasakthivel R"
   ]
  },
  {
   "cell_type": "markdown",
   "metadata": {
    "id": "AZgM1S_Z6eKV"
   },
   "source": [
    "# Date: **21/05/2021**"
   ]
  },
  {
   "cell_type": "markdown",
   "metadata": {
    "id": "dcGeLEVD6uMz"
   },
   "source": [
    "### 👉 **1. We are having 3 list like this**"
   ]
  },
  {
   "cell_type": "markdown",
   "metadata": {
    "id": "Bf7I9ahb6yOM"
   },
   "source": [
    "Colors = [“Yellow”,”Green”,”White”,”Black”]"
   ]
  },
  {
   "cell_type": "markdown",
   "metadata": {
    "id": "FEV7BZA362Sb"
   },
   "source": [
    "Fruits=[“Apple”,”Papaya”,”Mango”,”Orange”]"
   ]
  },
  {
   "cell_type": "markdown",
   "metadata": {
    "id": "Ne3fBWLr65u0"
   },
   "source": [
    "Animals=[“Tiger”,”Lion”,”Deer”,”Zebra”]"
   ]
  },
  {
   "cell_type": "markdown",
   "metadata": {
    "id": "Li_BCP0e6-Ld"
   },
   "source": [
    "**i. Write a program that asks user to enter a Color/Fruit/Animal name and it should tell which category belongs to , like its is a fruit or color or Animal**"
   ]
  },
  {
   "cell_type": "code",
   "execution_count": 3,
   "metadata": {
    "colab": {
     "base_uri": "https://localhost:8080/"
    },
    "executionInfo": {
     "elapsed": 6594,
     "status": "ok",
     "timestamp": 1621669840849,
     "user": {
      "displayName": "Madhurima Paul",
      "photoUrl": "https://lh3.googleusercontent.com/a-/AOh14Ggixphw8637RCJvV9YfU_VesQgbphXp4P4lZsy7ag=s64",
      "userId": "01548716524390041482"
     },
     "user_tz": -330
    },
    "id": "5VAMvFv57oYd",
    "outputId": "582be5c9-3f3c-44cf-8558-9502ace59823"
   },
   "outputs": [
    {
     "name": "stdout",
     "output_type": "stream",
     "text": [
      "Enter a Color/Fruit/Animal name: Lion\n",
      "Its an animal\n"
     ]
    }
   ],
   "source": [
    "Colors=[\"Yellow\",\"Green\",\"White\",\"Black\"]\n",
    "Fruits=[\"Apple\",\"Papaya\",\"Mango\",\"Orange\"]\n",
    "Animals=[\"Tiger\",\"Lion\",\"Deer\",\"Zebra\"]\n",
    "name = input(\"Enter a Color/Fruit/Animal name: \")\n",
    "if name.capitalize() in Colors:\n",
    "  print(\"Its a color\")\n",
    "elif name.capitalize() in Fruits:\n",
    "  print(\"Its a fruit\")\n",
    "elif name.capitalize() in Animals:\n",
    "  print(\"Its an animal\")\n",
    "else:\n",
    "  print(\"Its not in the list.\")"
   ]
  },
  {
   "cell_type": "markdown",
   "metadata": {
    "id": "AjyvHxqhDy5A"
   },
   "source": [
    "**ii. Write a program that asks user to enter two cities and it tells you if they both are in same country or not. For example if I enter yellow and Black, it will print \"Both are colors\" but if I enter yellow and Tiger it should print \"They don't belong to same category\"**"
   ]
  },
  {
   "cell_type": "code",
   "execution_count": 1,
   "metadata": {
    "colab": {
     "base_uri": "https://localhost:8080/"
    },
    "executionInfo": {
     "elapsed": 8794,
     "status": "ok",
     "timestamp": 1621672117099,
     "user": {
      "displayName": "Madhurima Paul",
      "photoUrl": "https://lh3.googleusercontent.com/a-/AOh14Ggixphw8637RCJvV9YfU_VesQgbphXp4P4lZsy7ag=s64",
      "userId": "01548716524390041482"
     },
     "user_tz": -330
    },
    "id": "-H12BwUID4cX",
    "outputId": "c355a895-d105-40da-d41d-4e44e7549ee6"
   },
   "outputs": [
    {
     "name": "stdout",
     "output_type": "stream",
     "text": [
      "Enter city1 :Chennai\n",
      "Enter city2 :Mumbai\n",
      "Both the cities are in India\n"
     ]
    }
   ],
   "source": [
    "India = [\"Kolkata\",\"Delhi\",\"Mumbai\",\"Chennai\"]\n",
    "Australia = [\"Sydney\",\"Melbourne\",\"Adelaide\",\"Perth\"]\n",
    "Canada = [\"Toronto\",\"Vancouver\",\"Montreal\",\"Ottawa\"]\n",
    "city1= input(\"Enter city1 :\")\n",
    "city2 = input(\"Enter city2 :\")\n",
    "if city1.capitalize() in India and city2.capitalize() in India:\n",
    "  print(\"Both the cities are in India\")\n",
    "elif city1.capitalize() in Australia and city2.capitalize() in Australia:\n",
    "  print(\"Both the cities are in Australia\")\n",
    "elif city1.capitalize() in Canada and city2.capitalize() in Canada:\n",
    "  print(\"Both the cities are in Canada\")\n",
    "else:\n",
    "  print(\"They are from different countries\")"
   ]
  },
  {
   "cell_type": "markdown",
   "metadata": {
    "id": "lnJSXJ9dMQ-a"
   },
   "source": [
    "### 👉 **2.  Write a python program that can tell you if your grade score good or not . Good Score range is 40 to 60.**"
   ]
  },
  {
   "cell_type": "markdown",
   "metadata": {
    "id": "yA536SHrMVHy"
   },
   "source": [
    " i. Ask user to enter his score."
   ]
  },
  {
   "cell_type": "markdown",
   "metadata": {
    "id": "psxC6AD2MZUb"
   },
   "source": [
    " ii. If it is below 40 to 60 range then print that score is low"
   ]
  },
  {
   "cell_type": "markdown",
   "metadata": {
    "id": "7cQf19IDMcYs"
   },
   "source": [
    " iii. If it is above 60 then print that it is good otherwise print that it is normal"
   ]
  },
  {
   "cell_type": "code",
   "execution_count": 4,
   "metadata": {
    "colab": {
     "base_uri": "https://localhost:8080/"
    },
    "executionInfo": {
     "elapsed": 6793,
     "status": "ok",
     "timestamp": 1621672642266,
     "user": {
      "displayName": "Madhurima Paul",
      "photoUrl": "https://lh3.googleusercontent.com/a-/AOh14Ggixphw8637RCJvV9YfU_VesQgbphXp4P4lZsy7ag=s64",
      "userId": "01548716524390041482"
     },
     "user_tz": -330
    },
    "id": "uCPx1264D2ba",
    "outputId": "2853fb06-8b89-4937-a439-3eeb865a5487"
   },
   "outputs": [
    {
     "name": "stdout",
     "output_type": "stream",
     "text": [
      "Enter your score :58\n",
      "The score is normal\n"
     ]
    }
   ],
   "source": [
    "score= float(input(\"Enter your score :\"))\n",
    "if score<40:\n",
    "  print(\"The score is low\")\n",
    "elif score>60:\n",
    "  print(\"The score is good\")\n",
    "else:\n",
    "  print(\"The score is normal\")"
   ]
  },
  {
   "cell_type": "markdown",
   "metadata": {
    "id": "2XCJhiyjOZE1"
   },
   "source": [
    "### 👉 **3.  After appearing in exam 10 times you got this result,**"
   ]
  },
  {
   "cell_type": "markdown",
   "metadata": {
    "id": "Rkmf_AToOdEl"
   },
   "source": [
    "result = [\"Pass\",\"Fail\",\"Fail\",\"Pass\",\"Fail\",\"Pass\",\"Pass\",\"Fail\",\"Fail\",\"Fail\"]"
   ]
  },
  {
   "cell_type": "markdown",
   "metadata": {
    "id": "Kd8o7sS_OiVL"
   },
   "source": [
    "Using for loop figure out how many times you got Pass"
   ]
  },
  {
   "cell_type": "code",
   "execution_count": 5,
   "metadata": {
    "colab": {
     "base_uri": "https://localhost:8080/"
    },
    "executionInfo": {
     "elapsed": 378,
     "status": "ok",
     "timestamp": 1621672949704,
     "user": {
      "displayName": "Madhurima Paul",
      "photoUrl": "https://lh3.googleusercontent.com/a-/AOh14Ggixphw8637RCJvV9YfU_VesQgbphXp4P4lZsy7ag=s64",
      "userId": "01548716524390041482"
     },
     "user_tz": -330
    },
    "id": "Fd52gqiW7ZSH",
    "outputId": "f4299c6c-2f5a-4c98-a76c-ea737181d8bb"
   },
   "outputs": [
    {
     "name": "stdout",
     "output_type": "stream",
     "text": [
      "4\n"
     ]
    }
   ],
   "source": [
    "count=0\n",
    "result=[\"Pass\",\"Fail\",\"Fail\",\"Pass\",\"Fail\",\"Pass\",\"Pass\",\"Fail\",\"Fail\",\"Fail\"]\n",
    "for results in result:\n",
    "  if results==\"Pass\":\n",
    "    count=count+1\n",
    "print(count)"
   ]
  },
  {
   "cell_type": "markdown",
   "metadata": {
    "id": "mL_ZvZ4kPfOM"
   },
   "source": [
    "### 👉 **4.  Write a program that prints following shape**"
   ]
  },
  {
   "cell_type": "markdown",
   "metadata": {
    "id": "LIxdKClPPqf7"
   },
   "source": [
    "![Screenshot 2021-05-22 141444.png](data:image/png;base64,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)"
   ]
  },
  {
   "cell_type": "code",
   "execution_count": 6,
   "metadata": {
    "colab": {
     "base_uri": "https://localhost:8080/"
    },
    "executionInfo": {
     "elapsed": 399,
     "status": "ok",
     "timestamp": 1621676412431,
     "user": {
      "displayName": "Madhurima Paul",
      "photoUrl": "https://lh3.googleusercontent.com/a-/AOh14Ggixphw8637RCJvV9YfU_VesQgbphXp4P4lZsy7ag=s64",
      "userId": "01548716524390041482"
     },
     "user_tz": -330
    },
    "id": "oNQTBQj0QAiG",
    "outputId": "93cf963d-97b0-4e5a-e4a4-7a69f22d7fcf"
   },
   "outputs": [
    {
     "name": "stdout",
     "output_type": "stream",
     "text": [
      "\n",
      "*\n",
      "**\n",
      "***\n",
      "****\n",
      "*****\n",
      "****\n",
      "***\n",
      "**\n",
      "*\n"
     ]
    }
   ],
   "source": [
    "for i in range(5):\n",
    "  for j in range(i):\n",
    "    print(\"*\",end=\"\")\n",
    "  print(\"\")\n",
    "for i in range(5,0,-1):\n",
    "  for j in range(i):\n",
    "    print(\"*\",end=\"\")\n",
    "  print(\"\")    "
   ]
  },
  {
   "cell_type": "markdown",
   "metadata": {
    "id": "IKhYnZnfcuQi"
   },
   "source": [
    "### 👉 **5.   Lets say you are running a 50 km race. Write a program that,**"
   ]
  },
  {
   "cell_type": "markdown",
   "metadata": {
    "id": "QwedtYWhcxuh"
   },
   "source": [
    "\n",
    "\n",
    "*   Upon completing each 10 km asks you \"are you tired?\"\n",
    "*   If you reply \"yes\" then it should break and print \"you didn't finish the race\"\n",
    "*   If you reply \"no\" then it should continue and ask \"are you tired\" on every km\n",
    "*   If you finish all 50 km then it should print congratulations message\n",
    "\n",
    "\n",
    "\n"
   ]
  },
  {
   "cell_type": "code",
   "execution_count": 9,
   "metadata": {
    "colab": {
     "base_uri": "https://localhost:8080/"
    },
    "executionInfo": {
     "elapsed": 12065,
     "status": "ok",
     "timestamp": 1621678377963,
     "user": {
      "displayName": "Madhurima Paul",
      "photoUrl": "https://lh3.googleusercontent.com/a-/AOh14Ggixphw8637RCJvV9YfU_VesQgbphXp4P4lZsy7ag=s64",
      "userId": "01548716524390041482"
     },
     "user_tz": -330
    },
    "id": "s2-RwoXYdIpM",
    "outputId": "1521c983-7aa8-4b9d-ae4b-b344fa689e67"
   },
   "outputs": [
    {
     "name": "stdout",
     "output_type": "stream",
     "text": [
      "are you tired?:\n",
      "no\n",
      "are you tired?:\n",
      "no\n",
      "are you tired?:\n",
      "yes\n"
     ]
    }
   ],
   "source": [
    "for run in range(1,51):\n",
    "  if run<50 and run%10==0:\n",
    "    q=input(\"are you tired?:\\n\")\n",
    "    if q.lower()==\"yes\":\n",
    "      break\n",
    "      print(\"you didn't finish the race\")\n",
    "    elif q.lower()==\"no\":\n",
    "      continue\n",
    "    else:\n",
    "      print(\"Invalid input\")\n",
    "  if run==50:\n",
    "    print(\"Congratulations !!!\")"
   ]
  },
  {
   "cell_type": "markdown",
   "metadata": {
    "id": "-cCYJSznhV-S"
   },
   "source": [
    "### 👉 **6.  Write a Python program to find those numbers which are divisible by 7 and multiple of 5, between 1500 and 2700 (both included).**"
   ]
  },
  {
   "cell_type": "code",
   "execution_count": 10,
   "metadata": {
    "colab": {
     "base_uri": "https://localhost:8080/"
    },
    "executionInfo": {
     "elapsed": 398,
     "status": "ok",
     "timestamp": 1621678530595,
     "user": {
      "displayName": "Madhurima Paul",
      "photoUrl": "https://lh3.googleusercontent.com/a-/AOh14Ggixphw8637RCJvV9YfU_VesQgbphXp4P4lZsy7ag=s64",
      "userId": "01548716524390041482"
     },
     "user_tz": -330
    },
    "id": "EObydtB36WjX",
    "outputId": "f38a2a0f-e8f5-4d6e-fc1b-4186af82da56"
   },
   "outputs": [
    {
     "name": "stdout",
     "output_type": "stream",
     "text": [
      "1505\n",
      "1540\n",
      "1575\n",
      "1610\n",
      "1645\n",
      "1680\n",
      "1715\n",
      "1750\n",
      "1785\n",
      "1820\n",
      "1855\n",
      "1890\n",
      "1925\n",
      "1960\n",
      "1995\n",
      "2030\n",
      "2065\n",
      "2100\n",
      "2135\n",
      "2170\n",
      "2205\n",
      "2240\n",
      "2275\n",
      "2310\n",
      "2345\n",
      "2380\n",
      "2415\n",
      "2450\n",
      "2485\n",
      "2520\n",
      "2555\n",
      "2590\n",
      "2625\n",
      "2660\n",
      "2695\n"
     ]
    }
   ],
   "source": [
    "for num in range(1500,2701):\n",
    "  if num%7==0 and num%5==0:\n",
    "    print(num,end=\"\\n\")"
   ]
  },
  {
   "cell_type": "markdown",
   "metadata": {
    "id": "V5vUlvIvk0GL"
   },
   "source": [
    "### 👉 **7.   Print square of all numbers between 10 to 20 except even numbers**"
   ]
  },
  {
   "cell_type": "code",
   "execution_count": 11,
   "metadata": {
    "colab": {
     "base_uri": "https://localhost:8080/"
    },
    "executionInfo": {
     "elapsed": 474,
     "status": "ok",
     "timestamp": 1621678744650,
     "user": {
      "displayName": "Madhurima Paul",
      "photoUrl": "https://lh3.googleusercontent.com/a-/AOh14Ggixphw8637RCJvV9YfU_VesQgbphXp4P4lZsy7ag=s64",
      "userId": "01548716524390041482"
     },
     "user_tz": -330
    },
    "id": "y91nciBP4CwY",
    "outputId": "84cb2262-57d4-476f-9dd5-651b72863685"
   },
   "outputs": [
    {
     "name": "stdout",
     "output_type": "stream",
     "text": [
      "121\n",
      "169\n",
      "225\n",
      "289\n",
      "361\n"
     ]
    }
   ],
   "source": [
    "for num in range(10,21):\n",
    "  if num%2!=0:\n",
    "    print(num**2,end=\"\\n\")"
   ]
  },
  {
   "cell_type": "markdown",
   "metadata": {
    "id": "rAMzIyWplhiK"
   },
   "source": [
    "### 👉 **8.  Your Marks for five Test(test1 to test5) looks like this**"
   ]
  },
  {
   "cell_type": "markdown",
   "metadata": {
    "id": "NyFFt7dQlkLL"
   },
   "source": [
    "marks_list = [65, 75, 2100, 95, 83]"
   ]
  },
  {
   "cell_type": "markdown",
   "metadata": {
    "id": "Er2naOKiltHE"
   },
   "source": [
    "Write a program that asks you to enter marks and program should tell you in which test that marks occurred. If marks is not found then it should print that as well."
   ]
  },
  {
   "cell_type": "code",
   "execution_count": 13,
   "metadata": {
    "colab": {
     "base_uri": "https://localhost:8080/"
    },
    "executionInfo": {
     "elapsed": 6626,
     "status": "ok",
     "timestamp": 1621679202503,
     "user": {
      "displayName": "Madhurima Paul",
      "photoUrl": "https://lh3.googleusercontent.com/a-/AOh14Ggixphw8637RCJvV9YfU_VesQgbphXp4P4lZsy7ag=s64",
      "userId": "01548716524390041482"
     },
     "user_tz": -330
    },
    "id": "_Rs97VcClnwW",
    "outputId": "9d3c4bd6-b037-4699-d02f-b34cd16bc6ff"
   },
   "outputs": [
    {
     "name": "stdout",
     "output_type": "stream",
     "text": [
      "Enter the marks :95\n",
      "This marks is of Test4\n"
     ]
    }
   ],
   "source": [
    "marks_list = [65, 75, 2100, 95, 83]\n",
    "marks=int(input(\"Enter the marks :\"))\n",
    "if marks in marks_list:\n",
    "  print(f\"This marks is of Test{marks_list.index(marks)+1}\")"
   ]
  },
  {
   "cell_type": "code",
   "execution_count": null,
   "metadata": {},
   "outputs": [],
   "source": []
  }
 ],
 "metadata": {
  "colab": {
   "authorship_tag": "ABX9TyPLvjQo8bFyYqtggurDjxnD",
   "name": "Task1.ipynb",
   "provenance": []
  },
  "kernelspec": {
   "display_name": "Python 3",
   "language": "python",
   "name": "python3"
  },
  "language_info": {
   "codemirror_mode": {
    "name": "ipython",
    "version": 3
   },
   "file_extension": ".py",
   "mimetype": "text/x-python",
   "name": "python",
   "nbconvert_exporter": "python",
   "pygments_lexer": "ipython3",
   "version": "3.8.5"
  }
 },
 "nbformat": 4,
 "nbformat_minor": 1
}
